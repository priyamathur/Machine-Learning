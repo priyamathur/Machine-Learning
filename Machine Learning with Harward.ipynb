{
 "cells": [
  {
   "cell_type": "code",
   "execution_count": 1,
   "metadata": {
    "collapsed": false
   },
   "outputs": [
    {
     "name": "stdout",
     "output_type": "stream",
     "text": [
      "Collecting seaborn\n",
      "  Downloading seaborn-0.8.1.tar.gz (178kB)\n",
      "\u001b[K    100% |████████████████████████████████| 184kB 1.6MB/s \n",
      "\u001b[?25hCollecting pyquery\n",
      "  Downloading pyquery-1.2.17-py2.py3-none-any.whl\n",
      "Collecting cssselect>0.7.9 (from pyquery)\n",
      "  Downloading cssselect-1.0.1-py2.py3-none-any.whl\n",
      "Requirement already satisfied (use --upgrade to upgrade): lxml>=2.1 in /Users/pmathur/anaconda2/envs/gl-env/lib/python2.7/site-packages (from pyquery)\n",
      "Building wheels for collected packages: seaborn\n",
      "  Running setup.py bdist_wheel for seaborn ... \u001b[?25l-\b \b\\\b \b|\b \b/\b \b-\b \bdone\n",
      "\u001b[?25h  Stored in directory: /Users/pmathur/Library/Caches/pip/wheels/29/af/4b/ac6b04ec3e2da1a450e74c6a0e86ade83807b4aaf40466ecda\n",
      "Successfully built seaborn\n",
      "Installing collected packages: seaborn, cssselect, pyquery\n",
      "Successfully installed cssselect-1.0.1 pyquery-1.2.17 seaborn-0.8.1\n",
      "\u001b[33mYou are using pip version 8.1.1, however version 9.0.1 is available.\n",
      "You should consider upgrading via the 'pip install --upgrade pip' command.\u001b[0m\n"
     ]
    }
   ],
   "source": [
    "!pip install seaborn pyquery"
   ]
  },
  {
   "cell_type": "code",
   "execution_count": null,
   "metadata": {
    "collapsed": true
   },
   "outputs": [],
   "source": []
  }
 ],
 "metadata": {
  "kernelspec": {
   "display_name": "Python 2",
   "language": "python",
   "name": "python2"
  },
  "language_info": {
   "codemirror_mode": {
    "name": "ipython",
    "version": 2
   },
   "file_extension": ".py",
   "mimetype": "text/x-python",
   "name": "python",
   "nbconvert_exporter": "python",
   "pygments_lexer": "ipython2",
   "version": "2.7.11"
  }
 },
 "nbformat": 4,
 "nbformat_minor": 0
}
